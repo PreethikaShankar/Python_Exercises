{
  "nbformat": 4,
  "nbformat_minor": 0,
  "metadata": {
    "colab": {
      "name": "01_Getting_&_Knowing_Your_Data.ipynb",
      "provenance": [],
      "private_outputs": true,
      "include_colab_link": true
    },
    "kernelspec": {
      "name": "python3",
      "display_name": "Python 3"
    }
  },
  "cells": [
    {
      "cell_type": "markdown",
      "metadata": {
        "id": "view-in-github",
        "colab_type": "text"
      },
      "source": [
        "<a href=\"https://colab.research.google.com/github/PreethikaShankar/Python_Exercises/blob/master/01_Getting_%26_Knowing_Your_Data.ipynb\" target=\"_parent\"><img src=\"https://colab.research.google.com/assets/colab-badge.svg\" alt=\"Open In Colab\"/></a>"
      ]
    },
    {
      "cell_type": "markdown",
      "metadata": {
        "id": "mfhdbXRrAraa",
        "colab_type": "text"
      },
      "source": [
        "Getting and Knowing your data\n"
      ]
    },
    {
      "cell_type": "markdown",
      "metadata": {
        "id": "B_E-MuQWXfRG",
        "colab_type": "text"
      },
      "source": [
        "Step 1. Import the necessary libraries"
      ]
    },
    {
      "cell_type": "code",
      "metadata": {
        "id": "zQyp4x1eAv3U",
        "colab_type": "code",
        "colab": {}
      },
      "source": [
        "import pandas as pd\n",
        "import numpy as np"
      ],
      "execution_count": 0,
      "outputs": []
    },
    {
      "cell_type": "markdown",
      "metadata": {
        "id": "ybLbCqoYXue7",
        "colab_type": "text"
      },
      "source": [
        "Step 2. Import the dataset from this address."
      ]
    },
    {
      "cell_type": "code",
      "metadata": {
        "id": "LpjtxUBZXX4t",
        "colab_type": "code",
        "colab": {}
      },
      "source": [
        "url = 'https://raw.githubusercontent.com/justmarkham/DAT8/master/data/chipotle.tsv'"
      ],
      "execution_count": 0,
      "outputs": []
    },
    {
      "cell_type": "markdown",
      "metadata": {
        "id": "Wm3BIhboX0fW",
        "colab_type": "text"
      },
      "source": [
        "Assign it to a variable called df"
      ]
    },
    {
      "cell_type": "code",
      "metadata": {
        "id": "2UlwQmquX9cG",
        "colab_type": "code",
        "colab": {}
      },
      "source": [
        "df = pd.read_csv(url, sep = '\\t')"
      ],
      "execution_count": 0,
      "outputs": []
    },
    {
      "cell_type": "markdown",
      "metadata": {
        "id": "z2wPiF8AYB3G",
        "colab_type": "text"
      },
      "source": [
        "Step 4. See the first 10 entries"
      ]
    },
    {
      "cell_type": "code",
      "metadata": {
        "id": "0AKPTT47Flm_",
        "colab_type": "code",
        "colab": {}
      },
      "source": [
        "df.head(10)"
      ],
      "execution_count": 0,
      "outputs": []
    },
    {
      "cell_type": "markdown",
      "metadata": {
        "id": "pMK9d279YH5h",
        "colab_type": "text"
      },
      "source": [
        "Step 5. What is the number of observations in the dataset?"
      ]
    },
    {
      "cell_type": "code",
      "metadata": {
        "id": "TrLc9fx_YKV-",
        "colab_type": "code",
        "colab": {}
      },
      "source": [
        "df.shape"
      ],
      "execution_count": 0,
      "outputs": []
    },
    {
      "cell_type": "code",
      "metadata": {
        "id": "fEQqmnBKYSJj",
        "colab_type": "code",
        "colab": {}
      },
      "source": [
        "df.info()"
      ],
      "execution_count": 0,
      "outputs": []
    },
    {
      "cell_type": "markdown",
      "metadata": {
        "id": "OGG3gsZ7ZKbn",
        "colab_type": "text"
      },
      "source": [
        "Step 6. What is the number of columns in the dataset?"
      ]
    },
    {
      "cell_type": "code",
      "metadata": {
        "id": "sdKgpBREZM7i",
        "colab_type": "code",
        "colab": {}
      },
      "source": [
        "df.shape[1]"
      ],
      "execution_count": 0,
      "outputs": []
    },
    {
      "cell_type": "markdown",
      "metadata": {
        "id": "bvk2sH1BZTQ_",
        "colab_type": "text"
      },
      "source": [
        "Step 7. Print the name of all the columns"
      ]
    },
    {
      "cell_type": "code",
      "metadata": {
        "id": "d5LBco-DZVyQ",
        "colab_type": "code",
        "colab": {}
      },
      "source": [
        "df.columns"
      ],
      "execution_count": 0,
      "outputs": []
    },
    {
      "cell_type": "markdown",
      "metadata": {
        "id": "qyRhJu3mZeRV",
        "colab_type": "text"
      },
      "source": [
        "Step 8. How is the dataset indexed?"
      ]
    },
    {
      "cell_type": "code",
      "metadata": {
        "id": "UY6tbAOmZe9Y",
        "colab_type": "code",
        "colab": {}
      },
      "source": [
        "df.index"
      ],
      "execution_count": 0,
      "outputs": []
    },
    {
      "cell_type": "markdown",
      "metadata": {
        "id": "gpU74-wxbMJ_",
        "colab_type": "text"
      },
      "source": [
        "Step 9. Which was the most-ordered item?"
      ]
    },
    {
      "cell_type": "code",
      "metadata": {
        "id": "o-6ryzMobMhM",
        "colab_type": "code",
        "colab": {}
      },
      "source": [
        "group = df.groupby('item_name')\n",
        "group_sum = group.sum()\n",
        "most_ordered_item = group_sum.sort_values('quantity',ascending=False)\n",
        "most_ordered_item.head(1)"
      ],
      "execution_count": 0,
      "outputs": []
    },
    {
      "cell_type": "markdown",
      "metadata": {
        "id": "cOdfJUFxfhj1",
        "colab_type": "text"
      },
      "source": [
        "Step 10. For the most-ordered item, how many items were ordered?"
      ]
    },
    {
      "cell_type": "code",
      "metadata": {
        "id": "YxBfmEXefqF-",
        "colab_type": "code",
        "colab": {}
      },
      "source": [
        "group = df.groupby('item_name')\n",
        "group_sum = group.sum()\n",
        "most_ordered_item = group_sum.sort_values('quantity',ascending=False)\n",
        "most_ordered_item.head(1)"
      ],
      "execution_count": 0,
      "outputs": []
    },
    {
      "cell_type": "markdown",
      "metadata": {
        "id": "bJiCiMprkCcv",
        "colab_type": "text"
      },
      "source": [
        "Step 11. What was the most ordered item in the choice_description column?"
      ]
    },
    {
      "cell_type": "code",
      "metadata": {
        "id": "EsgM1mNpkGO2",
        "colab_type": "code",
        "colab": {}
      },
      "source": [
        "group = df.groupby('choice_description')\n",
        "group_sum = group.sum()\n",
        "most_ordered_item = group_sum.sort_values('quantity',ascending=False)\n",
        "most_ordered_item.head(1)"
      ],
      "execution_count": 0,
      "outputs": []
    },
    {
      "cell_type": "markdown",
      "metadata": {
        "id": "rvlWWuwaljiQ",
        "colab_type": "text"
      },
      "source": [
        "Step 12. How many items were orderd in total?"
      ]
    },
    {
      "cell_type": "code",
      "metadata": {
        "id": "9BdpNZpPlkLK",
        "colab_type": "code",
        "colab": {}
      },
      "source": [
        "group_sum = df.quantity.sum()\n",
        "group_sum"
      ],
      "execution_count": 0,
      "outputs": []
    },
    {
      "cell_type": "markdown",
      "metadata": {
        "id": "zezEktZSpYrb",
        "colab_type": "text"
      },
      "source": [
        "Step 13. Turn the item price into a float"
      ]
    },
    {
      "cell_type": "markdown",
      "metadata": {
        "id": "-Fq01ROfpaGn",
        "colab_type": "text"
      },
      "source": [
        "Step 13.a. Check the item price type"
      ]
    },
    {
      "cell_type": "code",
      "metadata": {
        "id": "kkVCFxzrpZPl",
        "colab_type": "code",
        "colab": {}
      },
      "source": [
        "df.item_price.dtype"
      ],
      "execution_count": 0,
      "outputs": []
    },
    {
      "cell_type": "markdown",
      "metadata": {
        "id": "mHdnIKCqp3Ku",
        "colab_type": "text"
      },
      "source": [
        "Step 13.b. Create a lambda function and change the type of item price"
      ]
    },
    {
      "cell_type": "code",
      "metadata": {
        "id": "BJpXSgISp5b-",
        "colab_type": "code",
        "colab": {}
      },
      "source": [
        "price_float = lambda x: float(x[1:-1])\n",
        "df.item_price = df.item_price.apply(price_float)"
      ],
      "execution_count": 0,
      "outputs": []
    },
    {
      "cell_type": "code",
      "metadata": {
        "id": "OlcbDmeHrvbU",
        "colab_type": "code",
        "colab": {}
      },
      "source": [
        "df.item_price.dtype"
      ],
      "execution_count": 0,
      "outputs": []
    },
    {
      "cell_type": "markdown",
      "metadata": {
        "id": "ZymPhydwzW1F",
        "colab_type": "text"
      },
      "source": [
        "Step 14. How much was the revenue for the period in the dataset?"
      ]
    },
    {
      "cell_type": "code",
      "metadata": {
        "id": "DFp2lddqzZ1S",
        "colab_type": "code",
        "colab": {}
      },
      "source": [
        "revenue = (df['quantity']* df['item_price']).sum()\n",
        "print ('Revenue was $'+ str(round(revenue,2)))"
      ],
      "execution_count": 0,
      "outputs": []
    }
  ]
}