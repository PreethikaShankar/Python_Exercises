{
 "cells": [
  {
   "cell_type": "code",
   "execution_count": 5,
   "id": "c3ed12a7",
   "metadata": {},
   "outputs": [],
   "source": [
    "import pandas as pd"
   ]
  },
  {
   "cell_type": "code",
   "execution_count": 6,
   "id": "aa75095d",
   "metadata": {},
   "outputs": [],
   "source": [
    "df_brics = pd.read_csv('https://raw.githubusercontent.com/AmoDinho/datacamp-python-data-science-track/master/Intermediate%20Python%20for%20Data%20Science/Datasets/brics.csv',index_col = 0)"
   ]
  },
  {
   "cell_type": "code",
   "execution_count": 7,
   "id": "bef7d84d",
   "metadata": {},
   "outputs": [
    {
     "data": {
      "text/html": [
       "<div>\n",
       "<style scoped>\n",
       "    .dataframe tbody tr th:only-of-type {\n",
       "        vertical-align: middle;\n",
       "    }\n",
       "\n",
       "    .dataframe tbody tr th {\n",
       "        vertical-align: top;\n",
       "    }\n",
       "\n",
       "    .dataframe thead th {\n",
       "        text-align: right;\n",
       "    }\n",
       "</style>\n",
       "<table border=\"1\" class=\"dataframe\">\n",
       "  <thead>\n",
       "    <tr style=\"text-align: right;\">\n",
       "      <th></th>\n",
       "      <th>country</th>\n",
       "      <th>capital</th>\n",
       "      <th>area</th>\n",
       "      <th>population</th>\n",
       "    </tr>\n",
       "  </thead>\n",
       "  <tbody>\n",
       "    <tr>\n",
       "      <th>BR</th>\n",
       "      <td>Brazil</td>\n",
       "      <td>Brasilia</td>\n",
       "      <td>8.516</td>\n",
       "      <td>200.40</td>\n",
       "    </tr>\n",
       "    <tr>\n",
       "      <th>RU</th>\n",
       "      <td>Russia</td>\n",
       "      <td>Moscow</td>\n",
       "      <td>17.100</td>\n",
       "      <td>143.50</td>\n",
       "    </tr>\n",
       "    <tr>\n",
       "      <th>IN</th>\n",
       "      <td>India</td>\n",
       "      <td>New Delhi</td>\n",
       "      <td>3.286</td>\n",
       "      <td>1252.00</td>\n",
       "    </tr>\n",
       "    <tr>\n",
       "      <th>CH</th>\n",
       "      <td>China</td>\n",
       "      <td>Beijing</td>\n",
       "      <td>9.597</td>\n",
       "      <td>1357.00</td>\n",
       "    </tr>\n",
       "    <tr>\n",
       "      <th>SA</th>\n",
       "      <td>South Africa</td>\n",
       "      <td>Pretoria</td>\n",
       "      <td>1.221</td>\n",
       "      <td>52.98</td>\n",
       "    </tr>\n",
       "  </tbody>\n",
       "</table>\n",
       "</div>"
      ],
      "text/plain": [
       "         country    capital    area  population\n",
       "BR        Brazil   Brasilia   8.516      200.40\n",
       "RU        Russia     Moscow  17.100      143.50\n",
       "IN         India  New Delhi   3.286     1252.00\n",
       "CH         China    Beijing   9.597     1357.00\n",
       "SA  South Africa   Pretoria   1.221       52.98"
      ]
     },
     "execution_count": 7,
     "metadata": {},
     "output_type": "execute_result"
    }
   ],
   "source": [
    "df_brics"
   ]
  },
  {
   "cell_type": "code",
   "execution_count": 28,
   "id": "61145bed",
   "metadata": {},
   "outputs": [
    {
     "data": {
      "text/plain": [
       "(5, 4)"
      ]
     },
     "execution_count": 28,
     "metadata": {},
     "output_type": "execute_result"
    }
   ],
   "source": [
    "df_brics.shape"
   ]
  },
  {
   "cell_type": "code",
   "execution_count": 40,
   "id": "4e5fef27",
   "metadata": {},
   "outputs": [
    {
     "data": {
      "text/plain": [
       "BR     Brasilia\n",
       "RU       Moscow\n",
       "IN    New Delhi\n",
       "CH      Beijing\n",
       "SA     Pretoria\n",
       "Name: capital, dtype: object"
      ]
     },
     "execution_count": 40,
     "metadata": {},
     "output_type": "execute_result"
    }
   ],
   "source": [
    "df_brics.loc[:,'capital']"
   ]
  },
  {
   "cell_type": "code",
   "execution_count": 46,
   "id": "b0f84b37",
   "metadata": {},
   "outputs": [
    {
     "data": {
      "text/plain": [
       "BR     8.516\n",
       "RU    17.100\n",
       "IN     3.286\n",
       "CH     9.597\n",
       "SA     1.221\n",
       "Name: area, dtype: float64"
      ]
     },
     "execution_count": 46,
     "metadata": {},
     "output_type": "execute_result"
    }
   ],
   "source": [
    "df_brics.iloc[:,-2]"
   ]
  },
  {
   "cell_type": "code",
   "execution_count": 63,
   "id": "a715be03",
   "metadata": {},
   "outputs": [
    {
     "data": {
      "text/html": [
       "<div>\n",
       "<style scoped>\n",
       "    .dataframe tbody tr th:only-of-type {\n",
       "        vertical-align: middle;\n",
       "    }\n",
       "\n",
       "    .dataframe tbody tr th {\n",
       "        vertical-align: top;\n",
       "    }\n",
       "\n",
       "    .dataframe thead th {\n",
       "        text-align: right;\n",
       "    }\n",
       "</style>\n",
       "<table border=\"1\" class=\"dataframe\">\n",
       "  <thead>\n",
       "    <tr style=\"text-align: right;\">\n",
       "      <th></th>\n",
       "      <th>country</th>\n",
       "      <th>capital</th>\n",
       "      <th>area</th>\n",
       "      <th>population</th>\n",
       "      <th>name_capitalize</th>\n",
       "    </tr>\n",
       "  </thead>\n",
       "  <tbody>\n",
       "    <tr>\n",
       "      <th>BR</th>\n",
       "      <td>Brazil</td>\n",
       "      <td>Brasilia</td>\n",
       "      <td>8.516</td>\n",
       "      <td>200.40</td>\n",
       "      <td>BRASILIA</td>\n",
       "    </tr>\n",
       "    <tr>\n",
       "      <th>RU</th>\n",
       "      <td>Russia</td>\n",
       "      <td>Moscow</td>\n",
       "      <td>17.100</td>\n",
       "      <td>143.50</td>\n",
       "      <td>MOSCOW</td>\n",
       "    </tr>\n",
       "    <tr>\n",
       "      <th>IN</th>\n",
       "      <td>India</td>\n",
       "      <td>New Delhi</td>\n",
       "      <td>3.286</td>\n",
       "      <td>1252.00</td>\n",
       "      <td>NEW DELHI</td>\n",
       "    </tr>\n",
       "    <tr>\n",
       "      <th>CH</th>\n",
       "      <td>China</td>\n",
       "      <td>Beijing</td>\n",
       "      <td>9.597</td>\n",
       "      <td>1357.00</td>\n",
       "      <td>BEIJING</td>\n",
       "    </tr>\n",
       "    <tr>\n",
       "      <th>SA</th>\n",
       "      <td>South Africa</td>\n",
       "      <td>Pretoria</td>\n",
       "      <td>1.221</td>\n",
       "      <td>52.98</td>\n",
       "      <td>PRETORIA</td>\n",
       "    </tr>\n",
       "  </tbody>\n",
       "</table>\n",
       "</div>"
      ],
      "text/plain": [
       "         country    capital    area  population name_capitalize\n",
       "BR        Brazil   Brasilia   8.516      200.40        BRASILIA\n",
       "RU        Russia     Moscow  17.100      143.50          MOSCOW\n",
       "IN         India  New Delhi   3.286     1252.00       NEW DELHI\n",
       "CH         China    Beijing   9.597     1357.00         BEIJING\n",
       "SA  South Africa   Pretoria   1.221       52.98        PRETORIA"
      ]
     },
     "execution_count": 63,
     "metadata": {},
     "output_type": "execute_result"
    }
   ],
   "source": [
    "df_brics['name_capitalize'] = df_brics['capital'].apply(str.upper)\n",
    "df_brics"
   ]
  },
  {
   "cell_type": "code",
   "execution_count": 69,
   "id": "2b635397",
   "metadata": {},
   "outputs": [
    {
     "data": {
      "text/html": [
       "<div>\n",
       "<style scoped>\n",
       "    .dataframe tbody tr th:only-of-type {\n",
       "        vertical-align: middle;\n",
       "    }\n",
       "\n",
       "    .dataframe tbody tr th {\n",
       "        vertical-align: top;\n",
       "    }\n",
       "\n",
       "    .dataframe thead th {\n",
       "        text-align: right;\n",
       "    }\n",
       "</style>\n",
       "<table border=\"1\" class=\"dataframe\">\n",
       "  <thead>\n",
       "    <tr style=\"text-align: right;\">\n",
       "      <th></th>\n",
       "      <th>country</th>\n",
       "      <th>capital</th>\n",
       "      <th>area</th>\n",
       "      <th>population</th>\n",
       "      <th>name_capitalize</th>\n",
       "      <th>name_smaller</th>\n",
       "    </tr>\n",
       "  </thead>\n",
       "  <tbody>\n",
       "    <tr>\n",
       "      <th>BR</th>\n",
       "      <td>Brazil</td>\n",
       "      <td>Brasilia</td>\n",
       "      <td>8.516</td>\n",
       "      <td>200.40</td>\n",
       "      <td>BRASILIA</td>\n",
       "      <td>brasilia</td>\n",
       "    </tr>\n",
       "    <tr>\n",
       "      <th>RU</th>\n",
       "      <td>Russia</td>\n",
       "      <td>Moscow</td>\n",
       "      <td>17.100</td>\n",
       "      <td>143.50</td>\n",
       "      <td>MOSCOW</td>\n",
       "      <td>moscow</td>\n",
       "    </tr>\n",
       "    <tr>\n",
       "      <th>IN</th>\n",
       "      <td>India</td>\n",
       "      <td>New Delhi</td>\n",
       "      <td>3.286</td>\n",
       "      <td>1252.00</td>\n",
       "      <td>NEW DELHI</td>\n",
       "      <td>new delhi</td>\n",
       "    </tr>\n",
       "    <tr>\n",
       "      <th>CH</th>\n",
       "      <td>China</td>\n",
       "      <td>Beijing</td>\n",
       "      <td>9.597</td>\n",
       "      <td>1357.00</td>\n",
       "      <td>BEIJING</td>\n",
       "      <td>beijing</td>\n",
       "    </tr>\n",
       "    <tr>\n",
       "      <th>SA</th>\n",
       "      <td>South Africa</td>\n",
       "      <td>Pretoria</td>\n",
       "      <td>1.221</td>\n",
       "      <td>52.98</td>\n",
       "      <td>PRETORIA</td>\n",
       "      <td>pretoria</td>\n",
       "    </tr>\n",
       "  </tbody>\n",
       "</table>\n",
       "</div>"
      ],
      "text/plain": [
       "         country    capital    area  population name_capitalize name_smaller\n",
       "BR        Brazil   Brasilia   8.516      200.40        BRASILIA     brasilia\n",
       "RU        Russia     Moscow  17.100      143.50          MOSCOW       moscow\n",
       "IN         India  New Delhi   3.286     1252.00       NEW DELHI    new delhi\n",
       "CH         China    Beijing   9.597     1357.00         BEIJING      beijing\n",
       "SA  South Africa   Pretoria   1.221       52.98        PRETORIA     pretoria"
      ]
     },
     "execution_count": 69,
     "metadata": {},
     "output_type": "execute_result"
    }
   ],
   "source": [
    "df_brics['name_smaller'] = df_brics['capital'].apply(str.lower)\n",
    "df_brics"
   ]
  },
  {
   "cell_type": "code",
   "execution_count": 70,
   "id": "e643c0c6",
   "metadata": {},
   "outputs": [
    {
     "data": {
      "text/html": [
       "<div>\n",
       "<style scoped>\n",
       "    .dataframe tbody tr th:only-of-type {\n",
       "        vertical-align: middle;\n",
       "    }\n",
       "\n",
       "    .dataframe tbody tr th {\n",
       "        vertical-align: top;\n",
       "    }\n",
       "\n",
       "    .dataframe thead th {\n",
       "        text-align: right;\n",
       "    }\n",
       "</style>\n",
       "<table border=\"1\" class=\"dataframe\">\n",
       "  <thead>\n",
       "    <tr style=\"text-align: right;\">\n",
       "      <th></th>\n",
       "      <th>country</th>\n",
       "      <th>capital</th>\n",
       "      <th>area</th>\n",
       "      <th>population</th>\n",
       "      <th>name_capitalize</th>\n",
       "    </tr>\n",
       "  </thead>\n",
       "  <tbody>\n",
       "    <tr>\n",
       "      <th>BR</th>\n",
       "      <td>Brazil</td>\n",
       "      <td>Brasilia</td>\n",
       "      <td>8.516</td>\n",
       "      <td>200.40</td>\n",
       "      <td>BRASILIA</td>\n",
       "    </tr>\n",
       "    <tr>\n",
       "      <th>RU</th>\n",
       "      <td>Russia</td>\n",
       "      <td>Moscow</td>\n",
       "      <td>17.100</td>\n",
       "      <td>143.50</td>\n",
       "      <td>MOSCOW</td>\n",
       "    </tr>\n",
       "    <tr>\n",
       "      <th>IN</th>\n",
       "      <td>India</td>\n",
       "      <td>New Delhi</td>\n",
       "      <td>3.286</td>\n",
       "      <td>1252.00</td>\n",
       "      <td>NEW DELHI</td>\n",
       "    </tr>\n",
       "    <tr>\n",
       "      <th>CH</th>\n",
       "      <td>China</td>\n",
       "      <td>Beijing</td>\n",
       "      <td>9.597</td>\n",
       "      <td>1357.00</td>\n",
       "      <td>BEIJING</td>\n",
       "    </tr>\n",
       "    <tr>\n",
       "      <th>SA</th>\n",
       "      <td>South Africa</td>\n",
       "      <td>Pretoria</td>\n",
       "      <td>1.221</td>\n",
       "      <td>52.98</td>\n",
       "      <td>PRETORIA</td>\n",
       "    </tr>\n",
       "  </tbody>\n",
       "</table>\n",
       "</div>"
      ],
      "text/plain": [
       "         country    capital    area  population name_capitalize\n",
       "BR        Brazil   Brasilia   8.516      200.40        BRASILIA\n",
       "RU        Russia     Moscow  17.100      143.50          MOSCOW\n",
       "IN         India  New Delhi   3.286     1252.00       NEW DELHI\n",
       "CH         China    Beijing   9.597     1357.00         BEIJING\n",
       "SA  South Africa   Pretoria   1.221       52.98        PRETORIA"
      ]
     },
     "execution_count": 70,
     "metadata": {},
     "output_type": "execute_result"
    }
   ],
   "source": [
    "del(df_brics['name_smaller'])\n",
    "df_brics"
   ]
  },
  {
   "cell_type": "code",
   "execution_count": 98,
   "id": "96a7b16c",
   "metadata": {},
   "outputs": [
    {
     "data": {
      "image/png": "[encoded data removed]",
      "text/plain": [
       "<Figure size 432x288 with 1 Axes>"
      ]
     },
     "metadata": {
      "needs_background": "light"
     },
     "output_type": "display_data"
    },
    {
     "data": {
      "image/png": "[encoded data removed]",
      "text/plain": [
       "<Figure size 432x288 with 1 Axes>"
      ]
     },
     "metadata": {
      "needs_background": "light"
     },
     "output_type": "display_data"
    },
    {
     "data": {
      "text/plain": [
       "([<matplotlib.axis.XTick at 0x242d461fd60>,\n",
       "  <matplotlib.axis.XTick at 0x242d461fd30>,\n",
       "  <matplotlib.axis.XTick at 0x242d461f400>],\n",
       " [Text(1000, 0, '1k'), Text(10000, 0, '10k'), Text(100000, 0, '100k')])"
      ]
     },
     "execution_count": 98,
     "metadata": {},
     "output_type": "execute_result"
    },
    {
     "data": {
      "image/png": "[encoded data removed]",
      "text/plain": [
       "<Figure size 432x288 with 1 Axes>"
      ]
     },
     "metadata": {
      "needs_background": "light"
     },
     "output_type": "display_data"
    }
   ],
   "source": [
    "import matplotlib.pyplot as plt\n",
    "\n",
    "year = [1950,1970,1990,2010]\n",
    "pop = [2.519,3.692,5.263,6.972]\n",
    "\n",
    "plt.scatter(year,pop)\n",
    "plt.xscale('log')\n",
    "plt.grid('True')\n",
    "plt.show()\n",
    "\n",
    "\n",
    "plt.plot(year,pop)\n",
    "plt.grid('True')\n",
    "plt.show()\n",
    "plt.xticks([1000,10000,100000],\n",
    "           ['1k','10k','100k'])\n",
    "\n",
    "\n"
   ]
  },
  {
   "cell_type": "code",
   "execution_count": 102,
   "id": "04eba07f",
   "metadata": {},
   "outputs": [
    {
     "data": {
      "text/html": [
       "<div>\n",
       "<style scoped>\n",
       "    .dataframe tbody tr th:only-of-type {\n",
       "        vertical-align: middle;\n",
       "    }\n",
       "\n",
       "    .dataframe tbody tr th {\n",
       "        vertical-align: top;\n",
       "    }\n",
       "\n",
       "    .dataframe thead th {\n",
       "        text-align: right;\n",
       "    }\n",
       "</style>\n",
       "<table border=\"1\" class=\"dataframe\">\n",
       "  <thead>\n",
       "    <tr style=\"text-align: right;\">\n",
       "      <th></th>\n",
       "      <th>country</th>\n",
       "      <th>capital</th>\n",
       "      <th>area</th>\n",
       "      <th>population</th>\n",
       "      <th>name_capitalize</th>\n",
       "    </tr>\n",
       "  </thead>\n",
       "  <tbody>\n",
       "    <tr>\n",
       "      <th>BR</th>\n",
       "      <td>Brazil</td>\n",
       "      <td>Brasilia</td>\n",
       "      <td>8.516</td>\n",
       "      <td>200.40</td>\n",
       "      <td>BRASILIA</td>\n",
       "    </tr>\n",
       "    <tr>\n",
       "      <th>IN</th>\n",
       "      <td>India</td>\n",
       "      <td>New Delhi</td>\n",
       "      <td>3.286</td>\n",
       "      <td>1252.00</td>\n",
       "      <td>NEW DELHI</td>\n",
       "    </tr>\n",
       "    <tr>\n",
       "      <th>SA</th>\n",
       "      <td>South Africa</td>\n",
       "      <td>Pretoria</td>\n",
       "      <td>1.221</td>\n",
       "      <td>52.98</td>\n",
       "      <td>PRETORIA</td>\n",
       "    </tr>\n",
       "  </tbody>\n",
       "</table>\n",
       "</div>"
      ],
      "text/plain": [
       "         country    capital   area  population name_capitalize\n",
       "BR        Brazil   Brasilia  8.516      200.40        BRASILIA\n",
       "IN         India  New Delhi  3.286     1252.00       NEW DELHI\n",
       "SA  South Africa   Pretoria  1.221       52.98        PRETORIA"
      ]
     },
     "execution_count": 102,
     "metadata": {},
     "output_type": "execute_result"
    }
   ],
   "source": [
    "df_brics[df_brics['area']<9]"
   ]
  },
  {
   "cell_type": "code",
   "execution_count": 103,
   "id": "71197e84",
   "metadata": {},
   "outputs": [
    {
     "data": {
      "text/html": [
       "<div>\n",
       "<style scoped>\n",
       "    .dataframe tbody tr th:only-of-type {\n",
       "        vertical-align: middle;\n",
       "    }\n",
       "\n",
       "    .dataframe tbody tr th {\n",
       "        vertical-align: top;\n",
       "    }\n",
       "\n",
       "    .dataframe thead th {\n",
       "        text-align: right;\n",
       "    }\n",
       "</style>\n",
       "<table border=\"1\" class=\"dataframe\">\n",
       "  <thead>\n",
       "    <tr style=\"text-align: right;\">\n",
       "      <th></th>\n",
       "      <th>country</th>\n",
       "      <th>capital</th>\n",
       "      <th>area</th>\n",
       "      <th>population</th>\n",
       "      <th>name_capitalize</th>\n",
       "    </tr>\n",
       "  </thead>\n",
       "  <tbody>\n",
       "    <tr>\n",
       "      <th>CH</th>\n",
       "      <td>China</td>\n",
       "      <td>Beijing</td>\n",
       "      <td>9.597</td>\n",
       "      <td>1357.0</td>\n",
       "      <td>BEIJING</td>\n",
       "    </tr>\n",
       "  </tbody>\n",
       "</table>\n",
       "</div>"
      ],
      "text/plain": [
       "   country  capital   area  population name_capitalize\n",
       "CH   China  Beijing  9.597      1357.0         BEIJING"
      ]
     },
     "execution_count": 103,
     "metadata": {},
     "output_type": "execute_result"
    }
   ],
   "source": [
    "import numpy as np\n",
    "\n",
    "df_brics[np.logical_and(df_brics['area']>=9,df_brics['area']<10)]"
   ]
  },
  {
   "cell_type": "code",
   "execution_count": 113,
   "id": "e677336d",
   "metadata": {},
   "outputs": [
    {
     "name": "stdout",
     "output_type": "stream",
     "text": [
      "100\n",
      "others\n"
     ]
    }
   ],
   "source": [
    "# If conditional statement \n",
    "\n",
    "x = int(input())\n",
    "\n",
    "if x < 10:\n",
    "    print('given number is less than 10')\n",
    "elif x >= 10 and x <= 20:\n",
    "    print('given number is less than 20')\n",
    "else :\n",
    "    print('others')\n",
    "\n"
   ]
  },
  {
   "cell_type": "code",
   "execution_count": 119,
   "id": "d493e732",
   "metadata": {},
   "outputs": [
    {
     "name": "stdout",
     "output_type": "stream",
     "text": [
      "25.0\n",
      "6.25\n",
      "1.5625\n",
      "0.390625\n"
     ]
    }
   ],
   "source": [
    "# while conditional statement \n",
    "\n",
    "error = 100\n",
    "\n",
    "while error > 1:\n",
    "    error = error/4\n",
    "    print(error)"
   ]
  },
  {
   "cell_type": "code",
   "execution_count": 121,
   "id": "da89203e",
   "metadata": {},
   "outputs": [
    {
     "name": "stdout",
     "output_type": "stream",
     "text": [
      "correcting...\n",
      "7\n",
      "correcting...\n",
      "6\n",
      "correcting...\n",
      "5\n",
      "correcting...\n",
      "4\n",
      "correcting...\n",
      "3\n",
      "correcting...\n",
      "2\n",
      "correcting...\n",
      "1\n",
      "correcting...\n",
      "0\n"
     ]
    }
   ],
   "source": [
    "#Basic while loop\n",
    "# Initialize offset\n",
    "offset = 8\n",
    "\n",
    "# Code the while loop\n",
    "while offset != 0 :\n",
    "    print(\"correcting...\")\n",
    "    offset = offset - 1\n",
    "    print(offset)"
   ]
  },
  {
   "cell_type": "code",
   "execution_count": 122,
   "id": "77fdb8dc",
   "metadata": {},
   "outputs": [
    {
     "name": "stdout",
     "output_type": "stream",
     "text": [
      "correcting...\n",
      "-5\n",
      "correcting...\n",
      "-4\n",
      "correcting...\n",
      "-3\n",
      "correcting...\n",
      "-2\n",
      "correcting...\n",
      "-1\n",
      "correcting...\n",
      "0\n"
     ]
    }
   ],
   "source": [
    "#Add conditionals\n",
    "# Initialize offset\n",
    "offset = -6\n",
    "\n",
    "# Code the while loop\n",
    "while offset != 0 :\n",
    "    print(\"correcting...\")\n",
    "    if offset > 0 :\n",
    "        offset = offset - 1\n",
    "    else :\n",
    "        offset = offset + 1\n",
    "    print(offset)"
   ]
  },
  {
   "cell_type": "code",
   "execution_count": 123,
   "id": "9692aae6",
   "metadata": {},
   "outputs": [
    {
     "name": "stdout",
     "output_type": "stream",
     "text": [
      "11.25\n",
      "18.0\n",
      "20.0\n",
      "10.75\n",
      "9.5\n"
     ]
    }
   ],
   "source": [
    "# for conditional statement \n",
    "\n",
    "\n",
    "#Loop over a list\n",
    "# areas list\n",
    "areas = [11.25, 18.0, 20.0, 10.75, 9.50]\n",
    "\n",
    "# Code the for loop\n",
    "for area in areas :\n",
    "    print(area)\n"
   ]
  },
  {
   "cell_type": "code",
   "execution_count": 126,
   "id": "6b36a5c4",
   "metadata": {},
   "outputs": [
    {
     "name": "stdout",
     "output_type": "stream",
     "text": [
      "room 0:11.25\n",
      "room 1:18.0\n",
      "room 2:20.0\n",
      "room 3:10.75\n",
      "room 4:9.5\n"
     ]
    }
   ],
   "source": [
    "for index,area in enumerate(areas):\n",
    "    print ('room '+str(index)+':'+ str(area))"
   ]
  },
  {
   "cell_type": "code",
   "execution_count": 129,
   "id": "0ec4fdd5",
   "metadata": {},
   "outputs": [
    {
     "name": "stdout",
     "output_type": "stream",
     "text": [
      "the hallway is 11.25 sqm \n",
      "the kitchen is 18.0 sqm \n",
      "the living room is 20.0 sqm \n",
      "the bedroom is 10.75 sqm \n",
      "the bathroom is 9.5 sqm \n"
     ]
    }
   ],
   "source": [
    "#Loop over list of lists\n",
    "# house list of lists\n",
    "house = [[\"hallway\", 11.25], \n",
    "         [\"kitchen\", 18.0], \n",
    "         [\"living room\", 20.0], \n",
    "         [\"bedroom\", 10.75], \n",
    "         [\"bathroom\", 9.50]]\n",
    "         \n",
    "# Build a for loop from scratch\n",
    "for x in house :\n",
    "    print('the '+str(x[0])+' is '+str(x[1])+' sqm ')"
   ]
  },
  {
   "cell_type": "code",
   "execution_count": 136,
   "id": "773d2261",
   "metadata": {},
   "outputs": [],
   "source": [
    "#Loop over dictionary\n",
    "# Definition of dictionary\n",
    "europe = {'spain':'madrid', 'france':'paris', 'germany':'bonn', \n",
    "          'norway':'oslo', 'italy':'rome', 'poland':'warsaw', 'australia':'vienna' }\n",
    "  "
   ]
  },
  {
   "cell_type": "code",
   "execution_count": 142,
   "id": "c0fc598c",
   "metadata": {},
   "outputs": [
    {
     "name": "stdout",
     "output_type": "stream",
     "text": [
      "the capital of spain is madrid\n",
      "the capital of france is paris\n",
      "the capital of germany is bonn\n",
      "the capital of norway is oslo\n",
      "the capital of italy is rome\n",
      "the capital of poland is warsaw\n",
      "the capital of australia is vienna\n"
     ]
    }
   ],
   "source": [
    "for key,value in europe.items():\n",
    "    print('the capital of '+str(key)+' is '+str(value))"
   ]
  },
  {
   "cell_type": "code",
   "execution_count": 184,
   "id": "909a0046",
   "metadata": {},
   "outputs": [],
   "source": [
    "country = np.array([europe.keys()])\n",
    "capital = np.array([europe.values()])\n"
   ]
  },
  {
   "cell_type": "code",
   "execution_count": 193,
   "id": "b31d92ba",
   "metadata": {},
   "outputs": [],
   "source": [
    "np_europe = np.array([country,capital])"
   ]
  },
  {
   "cell_type": "code",
   "execution_count": 196,
   "id": "3c3ff09f",
   "metadata": {},
   "outputs": [
    {
     "name": "stdout",
     "output_type": "stream",
     "text": [
      "[dict_keys(['spain', 'france', 'germany', 'norway', 'italy', 'poland', 'australia'])]\n",
      "[dict_values(['madrid', 'paris', 'bonn', 'oslo', 'rome', 'warsaw', 'vienna'])]\n"
     ]
    }
   ],
   "source": [
    "# For loop over np_europe\n",
    "for x in np.concatenate([np_europe]) :\n",
    "    print(x)"
   ]
  },
  {
   "cell_type": "code",
   "execution_count": 197,
   "id": "535fdefa",
   "metadata": {},
   "outputs": [
    {
     "name": "stdout",
     "output_type": "stream",
     "text": [
      "1.73\n",
      "1.68\n",
      "1.71\n",
      "1.89\n",
      "1.79\n",
      "65.4\n",
      "59.2\n",
      "63.6\n",
      "88.4\n",
      "68.7\n"
     ]
    }
   ],
   "source": [
    "# For loop over 2d numpy array\n",
    "\n",
    "np_height= np.array([1.73,1.68,1.71,1.89,1.79])\n",
    "np_weight = np.array([65.4,59.2,63.6,88.4,68.7])\n",
    "\n",
    "measure = np.array([np_height,np_weight])\n",
    "\n",
    "for i in np.nditer(measure):\n",
    "    print(i)"
   ]
  },
  {
   "cell_type": "code",
   "execution_count": 199,
   "id": "cc75aac3",
   "metadata": {},
   "outputs": [
    {
     "name": "stdout",
     "output_type": "stream",
     "text": [
      "BR\n",
      "country              Brazil\n",
      "capital            Brasilia\n",
      "area                  8.516\n",
      "population            200.4\n",
      "name_capitalize    BRASILIA\n",
      "Name: BR, dtype: object\n",
      "RU\n",
      "country            Russia\n",
      "capital            Moscow\n",
      "area                 17.1\n",
      "population          143.5\n",
      "name_capitalize    MOSCOW\n",
      "Name: RU, dtype: object\n",
      "IN\n",
      "country                India\n",
      "capital            New Delhi\n",
      "area                   3.286\n",
      "population            1252.0\n",
      "name_capitalize    NEW DELHI\n",
      "Name: IN, dtype: object\n",
      "CH\n",
      "country              China\n",
      "capital            Beijing\n",
      "area                 9.597\n",
      "population          1357.0\n",
      "name_capitalize    BEIJING\n",
      "Name: CH, dtype: object\n",
      "SA\n",
      "country            South Africa\n",
      "capital                Pretoria\n",
      "area                      1.221\n",
      "population                52.98\n",
      "name_capitalize        PRETORIA\n",
      "Name: SA, dtype: object\n"
     ]
    }
   ],
   "source": [
    "# For loop over pandas dataframe\n",
    "\n",
    "for i,j in df_brics.iterrows():\n",
    "    print(i)\n",
    "    print(j)"
   ]
  },
  {
   "cell_type": "code",
   "execution_count": 8,
   "id": "60d49178",
   "metadata": {},
   "outputs": [
    {
     "name": "stdout",
     "output_type": "stream",
     "text": [
      "BR          Brazil\n",
      "RU          Russia\n",
      "IN           India\n",
      "CH           China\n",
      "SA    South Africa\n",
      "Name: country, dtype: object\n",
      "BR          Brazil\n",
      "RU          Russia\n",
      "IN           India\n",
      "CH           China\n",
      "SA    South Africa\n",
      "Name: country, dtype: object\n",
      "BR          Brazil\n",
      "RU          Russia\n",
      "IN           India\n",
      "CH           China\n",
      "SA    South Africa\n",
      "Name: country, dtype: object\n",
      "BR          Brazil\n",
      "RU          Russia\n",
      "IN           India\n",
      "CH           China\n",
      "SA    South Africa\n",
      "Name: country, dtype: object\n",
      "BR          Brazil\n",
      "RU          Russia\n",
      "IN           India\n",
      "CH           China\n",
      "SA    South Africa\n",
      "Name: country, dtype: object\n"
     ]
    }
   ],
   "source": [
    "# Selective prints using For loop over pandas dataframe\n",
    "for i,j in df_brics.iterrows():\n",
    "    print(df_brics['country'])"
   ]
  },
  {
   "cell_type": "code",
   "execution_count": 38,
   "id": "0e0b051d",
   "metadata": {},
   "outputs": [
    {
     "name": "stdout",
     "output_type": "stream",
     "text": [
      "0\n",
      "Tail\n"
     ]
    }
   ],
   "source": [
    "# Random Walk\n",
    "\n",
    "import numpy as np\n",
    "\n",
    "np.random.seed(123)\n",
    "coin = np.random.randint(0,2)\n",
    "\n",
    "print(coin)\n",
    "\n",
    "if coin == 0:\n",
    "    print('Tail')\n",
    "else :\n",
    "    print('Head')"
   ]
  },
  {
   "cell_type": "code",
   "execution_count": 67,
   "id": "90f03954",
   "metadata": {},
   "outputs": [
    {
     "name": "stdout",
     "output_type": "stream",
     "text": [
      "6\n",
      "15\n"
     ]
    }
   ],
   "source": [
    "import numpy as np\n",
    "np.random.seed(123)\n",
    "\n",
    "step = 10\n",
    "\n",
    "dice = np.random.randint(0,7)\n",
    "\n",
    "if dice <= 2:\n",
    "    step = step - 1\n",
    "elif dice == 3 or dice == 4 or dice == 5:\n",
    "    step = step + 1\n",
    "else :\n",
    "    step = step + np.random.randint(0,7)\n",
    "\n",
    "print(dice)\n",
    "print(step)\n"
   ]
  },
  {
   "cell_type": "code",
   "execution_count": 92,
   "id": "0b969547",
   "metadata": {},
   "outputs": [
    {
     "name": "stdout",
     "output_type": "stream",
     "text": [
      "[[0, 3, 2, 3, 2, 1, 0, 1, 2, 3, 4, 5, 4, 3, 4, 3, 4, 5, 6, 7, 8, 9, 10, 11, 15, 16, 15, 17, 16, 17, 18, 17, 18, 19, 21, 22, 23, 22, 23, 24, 23, 24, 25, 26, 30, 32, 34, 39, 40, 41, 40, 41, 42, 41, 40, 41, 47, 46, 45, 46, 47, 52, 51, 50, 49, 51, 52, 54, 55, 54, 55, 56, 57, 58, 57, 58, 62, 61, 62, 61, 60, 59, 58, 59, 60, 61, 62, 64, 65, 64, 63, 64, 65, 66, 68, 69, 68, 69, 70, 69, 70], [0, 5, 4, 3, 4, 5, 6, 7, 8, 9, 8, 14, 13, 14, 18, 22, 24, 26, 29, 30, 29, 30, 31, 32, 31, 32, 38, 37, 38, 39, 41, 40, 41, 47, 48, 49, 50, 49, 48, 49, 50, 49, 53, 52, 53, 54, 55, 59, 60, 59, 61, 60, 59, 60, 59, 58, 59, 64, 63, 62, 66, 69, 70, 72, 73, 72, 71, 72, 73, 72, 71, 76, 77, 78, 77, 76, 77, 78, 84, 85, 86, 87, 88, 87, 86, 87, 88, 87, 86, 87, 88, 87, 88, 89, 90, 89, 90, 91, 90, 93, 94], [0, 0, 1, 2, 4, 3, 2, 3, 7, 8, 9, 12, 13, 14, 13, 12, 18, 19, 18, 17, 18, 19, 18, 19, 24, 25, 31, 37, 39, 40, 46, 45, 46, 45, 46, 48, 49, 48, 49, 53, 52, 51, 52, 53, 54, 53, 52, 53, 52, 51, 52, 51, 52, 53, 52, 53, 54, 55, 56, 55, 54, 55, 58, 59, 60, 64, 65, 64, 65, 64, 63, 64, 65, 64, 68, 70, 71, 72, 73, 72, 73, 74, 75, 76, 75, 76, 75, 76, 75, 74, 75, 76, 77, 79, 78, 81, 82, 81, 80, 81, 82], [0, 1, 0, 1, 0, 1, 0, 1, 3, 2, 8, 7, 8, 7, 6, 7, 11, 12, 11, 12, 13, 14, 15, 14, 13, 14, 15, 19, 20, 19, 24, 23, 24, 23, 22, 23, 24, 23, 22, 26, 27, 33, 34, 35, 36, 37, 36, 37, 39, 40, 41, 40, 41, 40, 41, 40, 41, 42, 41, 42, 43, 48, 49, 48, 49, 48, 49, 53, 52, 51, 50, 54, 55, 54, 55, 56, 55, 56, 57, 58, 59, 60, 59, 60, 59, 58, 59, 58, 62, 63, 64, 63, 64, 65, 66, 67, 66, 65, 66, 67, 66], [0, 1, 2, 5, 4, 5, 6, 7, 6, 7, 11, 13, 14, 15, 14, 13, 14, 15, 14, 15, 16, 17, 18, 19, 20, 21, 27, 26, 30, 31, 30, 36, 37, 38, 37, 38, 37, 38, 42, 43, 49, 50, 51, 52, 53, 52, 53, 52, 53, 54, 53, 54, 55, 56, 57, 58, 57, 58, 62, 63, 64, 63, 64, 68, 69, 70, 71, 70, 69, 70, 69, 70, 69, 70, 71, 72, 73, 74, 75, 80, 85, 86, 85, 87, 86, 87, 88, 89, 88, 90, 89, 90, 91, 92, 97, 98, 101, 100, 105, 106, 107], [0, 1, 2, 4, 5, 6, 11, 10, 9, 10, 9, 10, 9, 10, 11, 12, 13, 14, 15, 16, 15, 16, 17, 18, 19, 20, 19, 18, 17, 20, 21, 20, 21, 22, 25, 26, 27, 26, 27, 28, 27, 28, 27, 26, 25, 26, 25, 24, 23, 27, 28, 27, 26, 27, 28, 27, 28, 29, 28, 27, 26, 27, 28, 29, 30, 29, 30, 31, 30, 32, 31, 34, 33, 36, 37, 36, 37, 38, 39, 40, 41, 40, 41, 42, 43, 44, 43, 44, 43, 42, 43, 44, 45, 44, 45, 46, 47, 48, 47, 48, 49], [0, 0, 0, 6, 5, 9, 8, 7, 6, 11, 15, 16, 17, 16, 17, 16, 17, 16, 17, 18, 20, 21, 20, 25, 26, 25, 26, 27, 28, 27, 26, 25, 24, 25, 26, 25, 24, 25, 26, 25, 24, 27, 28, 27, 26, 30, 29, 28, 29, 30, 29, 30, 31, 30, 31, 37, 36, 37, 38, 39, 38, 39, 40, 41, 42, 43, 49, 48, 47, 48, 49, 50, 49, 50, 51, 52, 53, 54, 57, 56, 57, 56, 57, 58, 59, 60, 61, 62, 61, 64, 65, 66, 72, 71, 72, 71, 70, 69, 70, 71, 72], [0, 6, 9, 10, 9, 12, 13, 12, 11, 17, 18, 19, 20, 21, 27, 33, 36, 37, 36, 39, 40, 41, 42, 41, 42, 41, 40, 41, 42, 43, 42, 43, 44, 43, 42, 43, 44, 43, 44, 43, 44, 45, 46, 48, 49, 50, 49, 48, 47, 48, 54, 55, 56, 60, 61, 62, 63, 64, 63, 62, 63, 64, 65, 66, 67, 68, 69, 68, 71, 70, 75, 81, 82, 81, 82, 88, 89, 90, 91, 92, 98, 97, 98, 99, 100, 99, 100, 101, 100, 99, 98, 102, 107, 113, 112, 113, 114, 115, 116, 117, 116], [0, 0, 6, 7, 8, 10, 11, 12, 11, 12, 18, 19, 18, 19, 20, 21, 20, 26, 25, 24, 25, 24, 23, 24, 23, 22, 23, 24, 23, 24, 25, 24, 25, 26, 27, 26, 27, 31, 30, 31, 30, 29, 30, 29, 33, 34, 35, 36, 35, 36, 37, 36, 35, 36, 35, 36, 35, 34, 33, 32, 33, 34, 35, 36, 37, 36, 40, 45, 44, 45, 48, 47, 48, 47, 48, 47, 48, 49, 50, 49, 48, 49, 50, 49, 48, 49, 48, 47, 46, 47, 50, 54, 59, 58, 61, 60, 61, 60, 63, 64, 65], [0, 0, 0, 1, 2, 3, 4, 5, 6, 5, 6, 5, 4, 5, 4, 5, 7, 6, 7, 8, 9, 10, 12, 13, 14, 15, 16, 18, 21, 22, 21, 22, 24, 23, 24, 25, 26, 27, 26, 30, 31, 30, 31, 32, 31, 32, 31, 32, 31, 30, 29, 30, 29, 28, 27, 26, 27, 28, 31, 32, 35, 36, 35, 34, 35, 36, 37, 41, 42, 46, 47, 48, 49, 48, 50, 51, 50, 49, 52, 54, 53, 52, 53, 54, 53, 54, 60, 61, 60, 61, 62, 63, 69, 68, 69, 68, 69, 70, 71, 75, 78]]\n"
     ]
    }
   ],
   "source": [
    "#Simulate multiple walks\n",
    "# Initialization\n",
    "import numpy as np\n",
    "np.random.seed(123)\n",
    "\n",
    "# Initialize all_walks\n",
    "all_walks = []\n",
    "\n",
    "# Simulate random walk 10 times\n",
    "for i in range(10) :\n",
    "\n",
    "    # Code from before\n",
    "    random_walk = [0]\n",
    "    for x in range(100) :\n",
    "        step = random_walk[-1]\n",
    "        dice = np.random.randint(1,7)\n",
    "\n",
    "        if dice <= 2:\n",
    "            step = max(0, step - 1)\n",
    "        elif dice <= 5:\n",
    "            step = step + 1\n",
    "        else:\n",
    "            step = step + np.random.randint(1,7)\n",
    "        # implementing clumsiness\n",
    "        if np.random.rand() <= 0.001 :\n",
    "            step = 0\n",
    "        random_walk.append(step)\n",
    "\n",
    "    # Append random_walk to all_walks\n",
    "    all_walks.append(random_walk)\n",
    "\n",
    "# Print all_walks\n",
    "print(all_walks)\n"
   ]
  },
  {
   "cell_type": "code",
   "execution_count": null,
   "id": "115c6a9d",
   "metadata": {},
   "outputs": [],
   "source": []
  }
 ],
 "metadata": {
  "kernelspec": {
   "display_name": "Python 3 (ipykernel)",
   "language": "python",
   "name": "python3"
  },
  "language_info": {
   "codemirror_mode": {
    "name": "ipython",
    "version": 3
   },
   "file_extension": ".py",
   "mimetype": "text/x-python",
   "name": "python",
   "nbconvert_exporter": "python",
   "pygments_lexer": "ipython3",
   "version": "3.9.7"
  }
 },
 "nbformat": 4,
 "nbformat_minor": 5
}
